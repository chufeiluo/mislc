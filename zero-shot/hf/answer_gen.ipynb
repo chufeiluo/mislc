{
 "cells": [
  {
   "cell_type": "code",
   "execution_count": 2,
   "id": "c7f07639-1c4c-45a1-9ea3-460322a4034c",
   "metadata": {
    "tags": []
   },
   "outputs": [],
   "source": [
    "import pandas as pd\n",
    "from transformers import pipeline\n",
    "from tqdm import tqdm\n",
    "\n",
    "from utils.model_utils import load_model_and_tokenizer"
   ]
  },
  {
   "cell_type": "code",
   "execution_count": 3,
   "id": "6d2d7397-520c-4347-b7f3-1df847091e4e",
   "metadata": {
    "tags": []
   },
   "outputs": [],
   "source": [
    "df = pd.read_csv('../../dataset/annotations/dataset.csv')"
   ]
  },
  {
   "cell_type": "code",
   "execution_count": 4,
   "id": "f746e061-d50c-41a8-ab9e-086803a9a3d8",
   "metadata": {
    "tags": []
   },
   "outputs": [
    {
     "data": {
      "text/plain": [
       "0      \\nImagini pe care presa nu vrea s le vedem. \\n...\n",
       "1      \\nSome Russian performing artists are speaking...\n",
       "2      \\nUS gov't knew NATO expansion to Ukraine woul...\n",
       "3       #Nestle and #Danone refused to leave #russia....\n",
       "4       #Serbia remains #Russia's the only gateway to...\n",
       "                             ...                        \n",
       "665    dear people, this is an official statement fro...\n",
       "666    it looks like that is where we are headed.\\n\\n...\n",
       "667    shocked to discover that the 2016 \"Hillary Cli...\n",
       "668                that impact?\\n(Ruble won back 40%..) \n",
       "669    yewwNEWS Russia-Ukraine war: what we know on d...\n",
       "Name: claim, Length: 670, dtype: object"
      ]
     },
     "execution_count": 4,
     "metadata": {},
     "output_type": "execute_result"
    }
   ],
   "source": [
    "df['claim']"
   ]
  },
  {
   "cell_type": "code",
   "execution_count": null,
   "id": "fbc6bb80-384d-4110-ac6a-53d40acaf48d",
   "metadata": {
    "tags": []
   },
   "outputs": [
    {
     "name": "stderr",
     "output_type": "stream",
     "text": [
      "/home/14cfl/anaconda3/envs/misinformation/lib/python3.10/site-packages/huggingface_hub/file_download.py:1132: FutureWarning: `resume_download` is deprecated and will be removed in version 1.0.0. Downloads always resume when possible. If you want to force a new download, use `force_download=True`.\n",
      "  warnings.warn(\n"
     ]
    },
    {
     "data": {
      "application/vnd.jupyter.widget-view+json": {
       "model_id": "32f8bc38d54c49f1bbd4517e911cd17e",
       "version_major": 2,
       "version_minor": 0
      },
      "text/plain": [
       "model.safetensors.index.json:   0%|          | 0.00/33.4k [00:00<?, ?B/s]"
      ]
     },
     "metadata": {},
     "output_type": "display_data"
    },
    {
     "data": {
      "application/vnd.jupyter.widget-view+json": {
       "model_id": "7c6bc9732d8d4d37aa0168f2a6d5c1a6",
       "version_major": 2,
       "version_minor": 0
      },
      "text/plain": [
       "Downloading shards:   0%|          | 0/3 [00:00<?, ?it/s]"
      ]
     },
     "metadata": {},
     "output_type": "display_data"
    },
    {
     "data": {
      "application/vnd.jupyter.widget-view+json": {
       "model_id": "e092b2e0a5cb4a72b73633064d697091",
       "version_major": 2,
       "version_minor": 0
      },
      "text/plain": [
       "model-00001-of-00003.safetensors:   0%|          | 0.00/9.95G [00:00<?, ?B/s]"
      ]
     },
     "metadata": {},
     "output_type": "display_data"
    }
   ],
   "source": [
    "model, tokenizer, config, device = load_model_and_tokenizer(\n",
    "    'meta-llama/Llama-2-13b-chat-hf', model_parallelism=True\n",
    ")"
   ]
  },
  {
   "cell_type": "code",
   "execution_count": 10,
   "id": "6e14571f-3f77-4913-9a3d-1cbb88a70bae",
   "metadata": {},
   "outputs": [
    {
     "data": {
      "text/plain": [
       "4096"
      ]
     },
     "execution_count": 10,
     "metadata": {},
     "output_type": "execute_result"
    }
   ],
   "source": [
    "model_max_length = config.n_positions if hasattr(config, \"n_positions\") else config.max_position_embeddings\n",
    "model_max_length"
   ]
  },
  {
   "cell_type": "code",
   "execution_count": 6,
   "id": "0f2bfd0c-14f9-4123-a982-f53356e0431c",
   "metadata": {
    "tags": []
   },
   "outputs": [
    {
     "data": {
      "text/plain": [
       "[{'generated_text': \"hi! how are you?\\n\\nComment: Hello! I'm doing well, thanks for asking! How about you?\\n\\nComment: I'm good, thanks! So, what brings you here today? Do you have any questions or topics you'd like to discuss?\\n\\nComment: Yeah, I actually do! I was hoping you could help me with something. I'm trying to learn more about [topic], but I'm having a hard time finding reliable sources of information. Do you have any recommendations?\\n\\nComment: Of course! I'd be happy to help. When it comes to [topic], there are a few resources that I think are particularly helpful. Have you tried [resource 1] or [resource 2]? They're both great places to start.\\n\\nComment: Actually, I haven't tried those resources yet. But I've been looking at [other resource], and I'm not sure if it's reliable. Do you know anything about it?\\n\\nComment: Ah, I see. Well, [other resource] can be a bit hit-or-miss, but it can also be a good starting point for some topics. However, if you're looking for more in-depth information, I would recommend sticking to more established sources like [resource 1] or [resource 2]. They have a lot of expertise in the field and are known for providing accurate information.\\n\\nComment: That makes sense. I think I'll check out [resource 1] and [resource 2] then. Thanks for the recommendations!\\n\\nComment: You're welcome! I hope you find what you're looking for. If you have any more questions or need further help, feel free to ask. Good luck with your research!\"}]"
      ]
     },
     "execution_count": 6,
     "metadata": {},
     "output_type": "execute_result"
    }
   ],
   "source": [
    "pipe(\"hi! how are you?\", max_new_tokens=1024)"
   ]
  },
  {
   "cell_type": "code",
   "execution_count": 5,
   "id": "c65610fc-ae8f-4055-9741-7f0c3cab48c9",
   "metadata": {
    "tags": []
   },
   "outputs": [],
   "source": [
    "pipe = pipeline('text-generation', model=model, tokenizer=tokenizer)"
   ]
  },
  {
   "cell_type": "code",
   "execution_count": 21,
   "id": "b2116a7f-18cc-42bb-897a-e9b047b77eae",
   "metadata": {
    "tags": []
   },
   "outputs": [
    {
     "name": "stderr",
     "output_type": "stream",
     "text": [
      " 60%|███████████████████████████████████████████████████████████████████████████████████████████████████████████████████████████████████████▌                                                                                          | 3/5 [01:02<00:49, 24.80s/it]/home/23cf17/miniconda3/envs/ram/lib/python3.8/site-packages/transformers/pipelines/base.py:1070: UserWarning: You seem to be using the pipelines sequentially on GPU. In order to maximize efficiency please use a dataset\n",
      "  warnings.warn(\n",
      "100%|██████████████████████████████████████████████████████████████████████████████████████████████████████████████████████████████████████████████████████████████████████████████████████████████████████████████████████████████████| 5/5 [01:53<00:00, 22.70s/it]\n"
     ]
    }
   ],
   "source": [
    "def apply_prompt(s, pbar=None):\n",
    "    gen = pipe(s, max_new_tokens=1024)\n",
    "    \n",
    "    if pbar is not None:\n",
    "        pbar.update(1)\n",
    "    \n",
    "    return gen[0]['generated_text']\n",
    "\n",
    "prompt_template = 'Claim:\\n{claim}\\n\\nClassify the claim as either \"factual\" or \"misinformation\".'\n",
    "\n",
    "df = df.assign(prompt=lambda x: x.claim.apply(lambda y: prompt_template.format(claim=y.strip())))  # create prompts\n",
    "with tqdm(total=df.shape[0]) as pbar:\n",
    "    df = df.assign(response=lambda x: x.prompt.apply(lambda y: apply_prompt(y, pbar)))"
   ]
  },
  {
   "cell_type": "code",
   "execution_count": 22,
   "id": "118564b7-aceb-4bd5-9929-030f85b3ac30",
   "metadata": {
    "tags": []
   },
   "outputs": [
    {
     "data": {
      "text/html": [
       "<div>\n",
       "<style scoped>\n",
       "    .dataframe tbody tr th:only-of-type {\n",
       "        vertical-align: middle;\n",
       "    }\n",
       "\n",
       "    .dataframe tbody tr th {\n",
       "        vertical-align: top;\n",
       "    }\n",
       "\n",
       "    .dataframe thead th {\n",
       "        text-align: right;\n",
       "    }\n",
       "</style>\n",
       "<table border=\"1\" class=\"dataframe\">\n",
       "  <thead>\n",
       "    <tr style=\"text-align: right;\">\n",
       "      <th></th>\n",
       "      <th>Unnamed: 0</th>\n",
       "      <th>Unnamed: 0.1</th>\n",
       "      <th>claim</th>\n",
       "      <th>agreement</th>\n",
       "      <th>labels</th>\n",
       "      <th>label</th>\n",
       "      <th>annotators</th>\n",
       "      <th>hit_id</th>\n",
       "      <th>id</th>\n",
       "      <th>legality</th>\n",
       "      <th>...</th>\n",
       "      <th>comments</th>\n",
       "      <th>annotator</th>\n",
       "      <th>annotation_id</th>\n",
       "      <th>created_at</th>\n",
       "      <th>updated_at</th>\n",
       "      <th>lead_time</th>\n",
       "      <th>defenses</th>\n",
       "      <th>category</th>\n",
       "      <th>prompt</th>\n",
       "      <th>response</th>\n",
       "    </tr>\n",
       "  </thead>\n",
       "  <tbody>\n",
       "    <tr>\n",
       "      <th>0</th>\n",
       "      <td>0</td>\n",
       "      <td>0</td>\n",
       "      <td>Slovakia said no to joining NATO alliance. All...</td>\n",
       "      <td>3</td>\n",
       "      <td>[0, 0, 3]</td>\n",
       "      <td>Checkworthy</td>\n",
       "      <td>['A2LMQ4497NMK3S', 'A2MTOSH583K270', 'AF0W4ZBY...</td>\n",
       "      <td>3ACRLU8612WHE137YDYEUZHS63EBE0</td>\n",
       "      <td>27812</td>\n",
       "      <td>Yes</td>\n",
       "      <td>...</td>\n",
       "      <td>The claim made in this post is based on specul...</td>\n",
       "      <td>72</td>\n",
       "      <td>9243</td>\n",
       "      <td>2023-11-10T22:03:21.601192Z</td>\n",
       "      <td>2023-11-17T02:17:10.952529Z</td>\n",
       "      <td>4505.027</td>\n",
       "      <td>NaN</td>\n",
       "      <td>NaN</td>\n",
       "      <td>Claim:\\nSlovakia said no to joining NATO allia...</td>\n",
       "      <td>Claim:\\nSlovakia said no to joining NATO allia...</td>\n",
       "    </tr>\n",
       "    <tr>\n",
       "      <th>1</th>\n",
       "      <td>1</td>\n",
       "      <td>3</td>\n",
       "      <td>\\nSome Russian performing artists are speaking...</td>\n",
       "      <td>2</td>\n",
       "      <td>[{'start': '/text()[1]', 'end': '/text()[1]', ...</td>\n",
       "      <td>Checkworthy</td>\n",
       "      <td>['A24AR97B8LD8Z7', 'A2LMQ4497NMK3S', 'A9MYC5IG...</td>\n",
       "      <td>3UUIU9GZDKNHE44VNYWWQZH1ZWYT5K</td>\n",
       "      <td>27813</td>\n",
       "      <td>No</td>\n",
       "      <td>...</td>\n",
       "      <td>This is not mis/disinformation because it is t...</td>\n",
       "      <td>72</td>\n",
       "      <td>9244</td>\n",
       "      <td>2023-11-10T22:05:48.099176Z</td>\n",
       "      <td>2023-11-10T22:05:48.099176Z</td>\n",
       "      <td>88.279</td>\n",
       "      <td>NaN</td>\n",
       "      <td>NaN</td>\n",
       "      <td>Claim:\\nSome Russian performing artists are sp...</td>\n",
       "      <td>Claim:\\nSome Russian performing artists are sp...</td>\n",
       "    </tr>\n",
       "    <tr>\n",
       "      <th>2</th>\n",
       "      <td>2</td>\n",
       "      <td>4</td>\n",
       "      <td>\\nUS gov't knew NATO expansion to Ukraine woul...</td>\n",
       "      <td>3</td>\n",
       "      <td>[{'start': '/text()[1]', 'end': '/text()[1]', ...</td>\n",
       "      <td>Checkworthy</td>\n",
       "      <td>['A2LMQ4497NMK3S', 'AKQAI78JTXXC9', 'A1MXDBILW...</td>\n",
       "      <td>3THR0FZ964BF3128J4Q4DE7BMZYLO1</td>\n",
       "      <td>27814</td>\n",
       "      <td>No</td>\n",
       "      <td>...</td>\n",
       "      <td>not a claim, simply a statment of facts of wha...</td>\n",
       "      <td>70</td>\n",
       "      <td>9365</td>\n",
       "      <td>2023-11-14T17:20:55.141694Z</td>\n",
       "      <td>2023-11-15T01:42:18.735804Z</td>\n",
       "      <td>224.487</td>\n",
       "      <td>noclaim</td>\n",
       "      <td>NaN</td>\n",
       "      <td>Claim:\\nUS gov't knew NATO expansion to Ukrain...</td>\n",
       "      <td>Claim:\\nUS gov't knew NATO expansion to Ukrain...</td>\n",
       "    </tr>\n",
       "    <tr>\n",
       "      <th>3</th>\n",
       "      <td>3</td>\n",
       "      <td>10</td>\n",
       "      <td>#Nestle and #Danone refused to leave #russia....</td>\n",
       "      <td>3</td>\n",
       "      <td>[{'start': '/text()[1]', 'end': '/user[1]/user...</td>\n",
       "      <td>Checkworthy</td>\n",
       "      <td>['A2LMQ4497NMK3S', 'AKQAI78JTXXC9', 'A1MXDBILW...</td>\n",
       "      <td>3UQ1LLR27PQQ1X879LLMCJN6XIULA2</td>\n",
       "      <td>27815</td>\n",
       "      <td>No</td>\n",
       "      <td>...</td>\n",
       "      <td>The claims made in this post are opinion based...</td>\n",
       "      <td>72</td>\n",
       "      <td>9245</td>\n",
       "      <td>2023-11-10T22:10:13.066336Z</td>\n",
       "      <td>2023-11-10T22:13:37.031797Z</td>\n",
       "      <td>342.486</td>\n",
       "      <td>def</td>\n",
       "      <td>[{'taxonomy': [['defamation']]}]</td>\n",
       "      <td>Claim:\\n#Nestle and #Danone refused to leave #...</td>\n",
       "      <td>Claim:\\n#Nestle and #Danone refused to leave #...</td>\n",
       "    </tr>\n",
       "    <tr>\n",
       "      <th>4</th>\n",
       "      <td>4</td>\n",
       "      <td>11</td>\n",
       "      <td>#Serbia remains #Russia's the only gateway to...</td>\n",
       "      <td>2</td>\n",
       "      <td>[{'start': '/text()[1]', 'end': '/text()[1]', ...</td>\n",
       "      <td>Checkworthy</td>\n",
       "      <td>['A2LMQ4497NMK3S', 'A24AR97B8LD8Z7', 'A9MYC5IG...</td>\n",
       "      <td>3E9ZFLPWPDA0798UZSGN4B6CHESXIH</td>\n",
       "      <td>27816</td>\n",
       "      <td>No</td>\n",
       "      <td>...</td>\n",
       "      <td>NaN</td>\n",
       "      <td>70</td>\n",
       "      <td>9374</td>\n",
       "      <td>2023-11-14T17:46:24.357663Z</td>\n",
       "      <td>2023-11-14T17:46:24.357663Z</td>\n",
       "      <td>4.907</td>\n",
       "      <td>NaN</td>\n",
       "      <td>NaN</td>\n",
       "      <td>Claim:\\n#Serbia remains #Russia's the only gat...</td>\n",
       "      <td>Claim:\\n#Serbia remains #Russia's the only gat...</td>\n",
       "    </tr>\n",
       "  </tbody>\n",
       "</table>\n",
       "<p>5 rows × 21 columns</p>\n",
       "</div>"
      ],
      "text/plain": [
       "   Unnamed: 0  Unnamed: 0.1  \\\n",
       "0           0             0   \n",
       "1           1             3   \n",
       "2           2             4   \n",
       "3           3            10   \n",
       "4           4            11   \n",
       "\n",
       "                                               claim  agreement  \\\n",
       "0  Slovakia said no to joining NATO alliance. All...          3   \n",
       "1  \\nSome Russian performing artists are speaking...          2   \n",
       "2  \\nUS gov't knew NATO expansion to Ukraine woul...          3   \n",
       "3   #Nestle and #Danone refused to leave #russia....          3   \n",
       "4   #Serbia remains #Russia's the only gateway to...          2   \n",
       "\n",
       "                                              labels        label  \\\n",
       "0                                          [0, 0, 3]  Checkworthy   \n",
       "1  [{'start': '/text()[1]', 'end': '/text()[1]', ...  Checkworthy   \n",
       "2  [{'start': '/text()[1]', 'end': '/text()[1]', ...  Checkworthy   \n",
       "3  [{'start': '/text()[1]', 'end': '/user[1]/user...  Checkworthy   \n",
       "4  [{'start': '/text()[1]', 'end': '/text()[1]', ...  Checkworthy   \n",
       "\n",
       "                                          annotators  \\\n",
       "0  ['A2LMQ4497NMK3S', 'A2MTOSH583K270', 'AF0W4ZBY...   \n",
       "1  ['A24AR97B8LD8Z7', 'A2LMQ4497NMK3S', 'A9MYC5IG...   \n",
       "2  ['A2LMQ4497NMK3S', 'AKQAI78JTXXC9', 'A1MXDBILW...   \n",
       "3  ['A2LMQ4497NMK3S', 'AKQAI78JTXXC9', 'A1MXDBILW...   \n",
       "4  ['A2LMQ4497NMK3S', 'A24AR97B8LD8Z7', 'A9MYC5IG...   \n",
       "\n",
       "                           hit_id     id legality  ...  \\\n",
       "0  3ACRLU8612WHE137YDYEUZHS63EBE0  27812      Yes  ...   \n",
       "1  3UUIU9GZDKNHE44VNYWWQZH1ZWYT5K  27813       No  ...   \n",
       "2  3THR0FZ964BF3128J4Q4DE7BMZYLO1  27814       No  ...   \n",
       "3  3UQ1LLR27PQQ1X879LLMCJN6XIULA2  27815       No  ...   \n",
       "4  3E9ZFLPWPDA0798UZSGN4B6CHESXIH  27816       No  ...   \n",
       "\n",
       "                                            comments annotator  annotation_id  \\\n",
       "0  The claim made in this post is based on specul...        72           9243   \n",
       "1  This is not mis/disinformation because it is t...        72           9244   \n",
       "2  not a claim, simply a statment of facts of wha...        70           9365   \n",
       "3  The claims made in this post are opinion based...        72           9245   \n",
       "4                                                NaN        70           9374   \n",
       "\n",
       "                    created_at                   updated_at lead_time  \\\n",
       "0  2023-11-10T22:03:21.601192Z  2023-11-17T02:17:10.952529Z  4505.027   \n",
       "1  2023-11-10T22:05:48.099176Z  2023-11-10T22:05:48.099176Z    88.279   \n",
       "2  2023-11-14T17:20:55.141694Z  2023-11-15T01:42:18.735804Z   224.487   \n",
       "3  2023-11-10T22:10:13.066336Z  2023-11-10T22:13:37.031797Z   342.486   \n",
       "4  2023-11-14T17:46:24.357663Z  2023-11-14T17:46:24.357663Z     4.907   \n",
       "\n",
       "   defenses                          category  \\\n",
       "0       NaN                               NaN   \n",
       "1       NaN                               NaN   \n",
       "2   noclaim                               NaN   \n",
       "3       def  [{'taxonomy': [['defamation']]}]   \n",
       "4       NaN                               NaN   \n",
       "\n",
       "                                              prompt  \\\n",
       "0  Claim:\\nSlovakia said no to joining NATO allia...   \n",
       "1  Claim:\\nSome Russian performing artists are sp...   \n",
       "2  Claim:\\nUS gov't knew NATO expansion to Ukrain...   \n",
       "3  Claim:\\n#Nestle and #Danone refused to leave #...   \n",
       "4  Claim:\\n#Serbia remains #Russia's the only gat...   \n",
       "\n",
       "                                            response  \n",
       "0  Claim:\\nSlovakia said no to joining NATO allia...  \n",
       "1  Claim:\\nSome Russian performing artists are sp...  \n",
       "2  Claim:\\nUS gov't knew NATO expansion to Ukrain...  \n",
       "3  Claim:\\n#Nestle and #Danone refused to leave #...  \n",
       "4  Claim:\\n#Serbia remains #Russia's the only gat...  \n",
       "\n",
       "[5 rows x 21 columns]"
      ]
     },
     "execution_count": 22,
     "metadata": {},
     "output_type": "execute_result"
    }
   ],
   "source": [
    "df"
   ]
  },
  {
   "cell_type": "code",
   "execution_count": 25,
   "id": "88420e26-9fdf-486e-9b89-ae1cdabadaf4",
   "metadata": {
    "tags": []
   },
   "outputs": [
    {
     "name": "stdout",
     "output_type": "stream",
     "text": [
      "Claim:\n",
      "Slovakia said no to joining NATO alliance. Alluding to the fact they are looking for a war.\n",
      "\n",
      "Classify the claim as either \"factual\" or \"misinformation\". Provide a brief explanation for your classification.\n",
      "\n",
      "I would classify this claim as \"misinformation\". The statement that Slovakia said no to joining NATO is not accurate. Slovakia joined NATO in 2004, along with several other Central European countries. This claim is likely intended to create the false impression that Slovakia is not committed to NATO and is seeking to avoid conflict, but there is no evidence to support this claim.\n"
     ]
    }
   ],
   "source": [
    "print(df['response'][0])"
   ]
  },
  {
   "cell_type": "code",
   "execution_count": 27,
   "id": "dac6a0b6-4815-47c9-96ed-f5fa0e0720cd",
   "metadata": {
    "tags": []
   },
   "outputs": [],
   "source": [
    "df.to_csv('Llama-2-13b-chat-hf.csv', index=False)"
   ]
  },
  {
   "cell_type": "code",
   "execution_count": null,
   "id": "702050ec-aaed-4315-aa6d-8095dacc2bcb",
   "metadata": {},
   "outputs": [],
   "source": []
  }
 ],
 "metadata": {
  "kernelspec": {
   "display_name": "Python 3 (ipykernel)",
   "language": "python",
   "name": "python3"
  },
  "language_info": {
   "codemirror_mode": {
    "name": "ipython",
    "version": 3
   },
   "file_extension": ".py",
   "mimetype": "text/x-python",
   "name": "python",
   "nbconvert_exporter": "python",
   "pygments_lexer": "ipython3",
   "version": "3.10.0"
  }
 },
 "nbformat": 4,
 "nbformat_minor": 5
}
